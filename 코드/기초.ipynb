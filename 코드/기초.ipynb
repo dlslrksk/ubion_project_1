{
 "cells": [
  {
   "cell_type": "markdown",
   "metadata": {},
   "source": [
    "#### 날짜와 시간 변환"
   ]
  },
  {
   "cell_type": "code",
   "execution_count": 2,
   "metadata": {},
   "outputs": [
    {
     "name": "stdout",
     "output_type": "stream",
     "text": [
      "<class 'datetime.datetime'>\n",
      "2022-05-07 19:56:33\n"
     ]
    }
   ],
   "source": [
    "import datetime\n",
    "\n",
    "format = '%Y-%m-%d %H:%M:%S'\n",
    "datetime_str = '2022-05-07 19:56:33'\n",
    "datetime_dt = datetime.datetime.strptime(datetime_str, format)\n",
    "\n",
    "print(type(datetime_dt))\n",
    "print(datetime_dt)"
   ]
  },
  {
   "cell_type": "code",
   "execution_count": 4,
   "metadata": {},
   "outputs": [
    {
     "name": "stdout",
     "output_type": "stream",
     "text": [
      "<class 'str'>\n",
      "2022-05-07 19:56:33\n"
     ]
    }
   ],
   "source": [
    "datetime_str = datetime_dt.strftime('%Y-%m-%d %H:%M:%S')\n",
    "\n",
    "print(type(datetime_str))\n",
    "print(datetime_str)"
   ]
  },
  {
   "cell_type": "code",
   "execution_count": 3,
   "metadata": {},
   "outputs": [
    {
     "data": {
      "text/plain": [
       "numpy.datetime64('2022-05-07')"
      ]
     },
     "execution_count": 3,
     "metadata": {},
     "output_type": "execute_result"
    }
   ],
   "source": [
    "import numpy as np\n",
    "np.datetime64('2022-05-07')"
   ]
  },
  {
   "cell_type": "code",
   "execution_count": 8,
   "metadata": {},
   "outputs": [
    {
     "data": {
      "text/plain": [
       "numpy.datetime64('1970-04-26T17:46:40')"
      ]
     },
     "execution_count": 8,
     "metadata": {},
     "output_type": "execute_result"
    }
   ],
   "source": [
    "import numpy as np\n",
    "np.datetime64(1000, 'ns')\n",
    "np.datetime64(10000, 'D')\n",
    "np.datetime64(10000000, 's')\n"
   ]
  },
  {
   "cell_type": "code",
   "execution_count": 9,
   "metadata": {},
   "outputs": [
    {
     "data": {
      "text/plain": [
       "array(['1992-10-24', '2022-05-07', '2022-07-15'], dtype='datetime64[D]')"
      ]
     },
     "execution_count": 9,
     "metadata": {},
     "output_type": "execute_result"
    }
   ],
   "source": [
    "np.array(['1992-10-24', '2022-05-07', '2022-07-15'], dtype='datetime64')"
   ]
  },
  {
   "cell_type": "code",
   "execution_count": 10,
   "metadata": {},
   "outputs": [
    {
     "data": {
      "text/plain": [
       "array(['2022-02-01', '2022-02-02', '2022-02-03', '2022-02-04',\n",
       "       '2022-02-05', '2022-02-06', '2022-02-07', '2022-02-08',\n",
       "       '2022-02-09', '2022-02-10', '2022-02-11', '2022-02-12',\n",
       "       '2022-02-13', '2022-02-14', '2022-02-15', '2022-02-16',\n",
       "       '2022-02-17', '2022-02-18', '2022-02-19', '2022-02-20',\n",
       "       '2022-02-21', '2022-02-22', '2022-02-23', '2022-02-24',\n",
       "       '2022-02-25', '2022-02-26', '2022-02-27', '2022-02-28'],\n",
       "      dtype='datetime64[D]')"
      ]
     },
     "execution_count": 10,
     "metadata": {},
     "output_type": "execute_result"
    }
   ],
   "source": [
    "np.arange('2022-02', '2022-03', dtype='datetime64[D]')"
   ]
  },
  {
   "cell_type": "code",
   "execution_count": null,
   "metadata": {},
   "outputs": [],
   "source": []
  }
 ],
 "metadata": {
  "interpreter": {
   "hash": "aee8b7b246df8f9039afb4144a1f6fd8d2ca17a180786b69acc140d282b71a49"
  },
  "kernelspec": {
   "display_name": "Python 3.10.2 64-bit",
   "language": "python",
   "name": "python3"
  },
  "language_info": {
   "codemirror_mode": {
    "name": "ipython",
    "version": 3
   },
   "file_extension": ".py",
   "mimetype": "text/x-python",
   "name": "python",
   "nbconvert_exporter": "python",
   "pygments_lexer": "ipython3",
   "version": "3.10.2"
  },
  "orig_nbformat": 4
 },
 "nbformat": 4,
 "nbformat_minor": 2
}
