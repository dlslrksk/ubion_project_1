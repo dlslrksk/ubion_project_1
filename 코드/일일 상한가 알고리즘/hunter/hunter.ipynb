{
 "cells": [
  {
   "cell_type": "code",
   "execution_count": 2,
   "metadata": {},
   "outputs": [],
   "source": [
    "import pandas as pd\n",
    "import numpy as np\n",
    "import matplotlib\n",
    "matplotlib.use('Agg')\n",
    "import matplotlib.pyplot as plt\n",
    "import matplotlib.dates as mdates\n",
    "import glob\n",
    "import argparse\n",
    "import os\n",
    "from shutil import copyfile, move\n",
    "from pathlib import Path"
   ]
  },
  {
   "cell_type": "code",
   "execution_count": 3,
   "metadata": {},
   "outputs": [],
   "source": [
    "# 데이터셋 준비하기\n",
    "def createLabel(fname, seq_len):\n",
    "    # python preprocess.py -m createLabel -l 20 -i stockdatas/EWT_training5.csv\n",
    "    print(\"Creating label . . .\")\n",
    "    # remove existing label file\n",
    "    filename = fname.split('/')\n",
    "    # print(\"{} - {}\".format(filename[0], filename[1][:-4]))\n",
    "    removeOutput(\"{}_label_{}.txt\".format(filename[1][:-4], seq_len))\n",
    "\n",
    "    df = pd.read_csv(fname, parse_dates=True, index_col=0)\n",
    "    df.fillna(0)\n",
    "\n",
    "    df.reset_index(inplace=True)\n",
    "    df['Date'] = df['Date'].map(mdates.date2num)\n",
    "    for i in range(0, len(df)):\n",
    "        c = df.ix[i:i + int(seq_len), :]\n",
    "\n",
    "        starting = 0\n",
    "        endvalue = 0\n",
    "        label = \"\"\n",
    "        \n",
    "        if len(c) == int(seq_len)+1:  ## 여기서 안나왔겠지. 마지막 부분이. 3450 3449\n",
    "            # starting = c[\"Close\"].iloc[-2]\n",
    "            starting = c[\"Open\"].iloc[-1]\n",
    "            endvalue = c[\"Close\"].iloc[-1]\n",
    "            # print(f'endvalue {endvalue} - starting {starting}')\n",
    "            tmp_rtn = endvalue / starting -1\n",
    "            if tmp_rtn > 0:\n",
    "                label = 1\n",
    "            else:\n",
    "                label = 0\n",
    "\n",
    "            with open(\"{}_label_{}.txt\".format(filename[1][:-4], seq_len), 'a') as the_file:\n",
    "                the_file.write(\"{}-{},{}\".format(filename[1][:-4], i, label))\n",
    "                the_file.write(\"\\n\")\n",
    "    print(\"Create label finished.\")"
   ]
  },
  {
   "cell_type": "code",
   "execution_count": 4,
   "metadata": {},
   "outputs": [
    {
     "ename": "NameError",
     "evalue": "name 'df' is not defined",
     "output_type": "error",
     "traceback": [
      "\u001b[1;31m---------------------------------------------------------------------------\u001b[0m",
      "\u001b[1;31mNameError\u001b[0m                                 Traceback (most recent call last)",
      "\u001b[1;32mc:\\Users\\Jeon You Seok\\Desktop\\ubion_project_1\\코드\\일일 상한가 알고리즘\\hunter\\hunter.ipynb Cell 3'\u001b[0m in \u001b[0;36m<cell line: 1>\u001b[1;34m()\u001b[0m\n\u001b[1;32m----> <a href='vscode-notebook-cell:/c%3A/Users/Jeon%20You%20Seok/Desktop/ubion_project_1/%EC%BD%94%EB%93%9C/%EC%9D%BC%EC%9D%BC%20%EC%83%81%ED%95%9C%EA%B0%80%20%EC%95%8C%EA%B3%A0%EB%A6%AC%EC%A6%98/hunter/hunter.ipynb#ch0000004?line=0'>1</a>\u001b[0m df\n",
      "\u001b[1;31mNameError\u001b[0m: name 'df' is not defined"
     ]
    }
   ],
   "source": [
    "createLabel(fname, seq_len)"
   ]
  },
  {
   "cell_type": "code",
   "execution_count": null,
   "metadata": {},
   "outputs": [],
   "source": []
  }
 ],
 "metadata": {
  "interpreter": {
   "hash": "a0e1a72cc3f286b5e1823aeaff197746ac050c8c5ae7866db42f07c85c3611bc"
  },
  "kernelspec": {
   "display_name": "Python 3.10.4 64-bit",
   "language": "python",
   "name": "python3"
  },
  "language_info": {
   "codemirror_mode": {
    "name": "ipython",
    "version": 3
   },
   "file_extension": ".py",
   "mimetype": "text/x-python",
   "name": "python",
   "nbconvert_exporter": "python",
   "pygments_lexer": "ipython3",
   "version": "3.10.4"
  },
  "orig_nbformat": 4
 },
 "nbformat": 4,
 "nbformat_minor": 2
}
