{
 "cells": [
  {
   "cell_type": "code",
   "execution_count": 5,
   "metadata": {},
   "outputs": [],
   "source": [
    "from pykrx import stock # 한국 거래소\n",
    "import pandas as pd\n",
    "\n",
    "f = open('상한가 종목(KRX)2022_05월.txt','w')\n",
    "date = []\n",
    "for i in range (20220501,20220531):\n",
    "    date.append('%s' %i)\n",
    "\n",
    "for i in range(len(date[:])):\n",
    "    df = stock.get_market_ohlcv_by_ticker(date=date[i], market=\"KOSDAQ\") \n",
    "    list=[]\n",
    "    df = df['등락률'][:]\n",
    "    for j in range(len(df)):\n",
    "        if df[j] >= 25:\n",
    "            list.append(df.index[j])\n",
    "    print(\"%s\" %date[i],\"%s\" %list,file=f)          \n",
    "f.close()"
   ]
  },
  {
   "cell_type": "code",
   "execution_count": null,
   "metadata": {},
   "outputs": [],
   "source": []
  }
 ],
 "metadata": {
  "interpreter": {
   "hash": "a0e1a72cc3f286b5e1823aeaff197746ac050c8c5ae7866db42f07c85c3611bc"
  },
  "kernelspec": {
   "display_name": "Python 3.10.4 64-bit",
   "language": "python",
   "name": "python3"
  },
  "language_info": {
   "codemirror_mode": {
    "name": "ipython",
    "version": 3
   },
   "file_extension": ".py",
   "mimetype": "text/x-python",
   "name": "python",
   "nbconvert_exporter": "python",
   "pygments_lexer": "ipython3",
   "version": "3.10.4"
  },
  "orig_nbformat": 4
 },
 "nbformat": 4,
 "nbformat_minor": 2
}
