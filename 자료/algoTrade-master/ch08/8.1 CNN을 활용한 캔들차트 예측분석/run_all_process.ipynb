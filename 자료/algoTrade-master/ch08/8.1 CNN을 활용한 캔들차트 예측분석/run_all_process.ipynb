{
 "cells": [
  {
   "cell_type": "code",
   "execution_count": 1,
   "metadata": {},
   "outputs": [
    {
     "name": "stdout",
     "output_type": "stream",
     "text": [
      "python run_binary_preprocessing.py \"BBNI.JK\" \"20\" \"50\"\n",
      "\u001b[91m\n",
      "Create Label Training Data\u001b[0m\n"
     ]
    },
    {
     "name": "stderr",
     "output_type": "stream",
     "text": [
      "/Users/jeon-youseok/Desktop/ubion/ubion_project_1/자료/algoTrade-master/ch08/8.1 CNN을 활용한 캔들차트 예측분석/preproccess_binclass.py:73: SyntaxWarning: \"is not\" with a literal. Did you mean \"!=\"?\n",
      "  if filename is not '':\n",
      "/Users/jeon-youseok/Desktop/ubion/ubion_project_1/자료/algoTrade-master/ch08/8.1 CNN을 활용한 캔들차트 예측분석/preproccess_binclass.py:93: SyntaxWarning: \"is not\" with a literal. Did you mean \"!=\"?\n",
      "  if filename is not '' and filename is not 'classes':\n",
      "/Users/jeon-youseok/Desktop/ubion/ubion_project_1/자료/algoTrade-master/ch08/8.1 CNN을 활용한 캔들차트 예측분석/preproccess_binclass.py:93: SyntaxWarning: \"is not\" with a literal. Did you mean \"!=\"?\n",
      "  if filename is not '' and filename is not 'classes':\n",
      "Traceback (most recent call last):\n",
      "  File \"/Users/jeon-youseok/Desktop/ubion/ubion_project_1/자료/algoTrade-master/ch08/8.1 CNN을 활용한 캔들차트 예측분석/preproccess_binclass.py\", line 15, in <module>\n",
      "    from mplfinance import candlestick2_ochl, volume_overlay\n",
      "ModuleNotFoundError: No module named 'mplfinance'\n",
      "/Users/jeon-youseok/Desktop/ubion/ubion_project_1/자료/algoTrade-master/ch08/8.1 CNN을 활용한 캔들차트 예측분석/preproccess_binclass.py:73: SyntaxWarning: \"is not\" with a literal. Did you mean \"!=\"?\n",
      "  if filename is not '':\n",
      "/Users/jeon-youseok/Desktop/ubion/ubion_project_1/자료/algoTrade-master/ch08/8.1 CNN을 활용한 캔들차트 예측분석/preproccess_binclass.py:93: SyntaxWarning: \"is not\" with a literal. Did you mean \"!=\"?\n",
      "  if filename is not '' and filename is not 'classes':\n",
      "/Users/jeon-youseok/Desktop/ubion/ubion_project_1/자료/algoTrade-master/ch08/8.1 CNN을 활용한 캔들차트 예측분석/preproccess_binclass.py:93: SyntaxWarning: \"is not\" with a literal. Did you mean \"!=\"?\n",
      "  if filename is not '' and filename is not 'classes':\n"
     ]
    },
    {
     "name": "stdout",
     "output_type": "stream",
     "text": [
      "\u001b[92mCreate Label Training Data Done\n",
      "\u001b[0m!\n",
      "\u001b[91m\n",
      "Create Label Testing Data\u001b[0m\n"
     ]
    },
    {
     "name": "stderr",
     "output_type": "stream",
     "text": [
      "Traceback (most recent call last):\n",
      "  File \"/Users/jeon-youseok/Desktop/ubion/ubion_project_1/자료/algoTrade-master/ch08/8.1 CNN을 활용한 캔들차트 예측분석/preproccess_binclass.py\", line 15, in <module>\n",
      "    from mplfinance import candlestick2_ochl, volume_overlay\n",
      "ModuleNotFoundError: No module named 'mplfinance'\n",
      "/Users/jeon-youseok/Desktop/ubion/ubion_project_1/자료/algoTrade-master/ch08/8.1 CNN을 활용한 캔들차트 예측분석/preproccess_binclass.py:73: SyntaxWarning: \"is not\" with a literal. Did you mean \"!=\"?\n",
      "  if filename is not '':\n",
      "/Users/jeon-youseok/Desktop/ubion/ubion_project_1/자료/algoTrade-master/ch08/8.1 CNN을 활용한 캔들차트 예측분석/preproccess_binclass.py:93: SyntaxWarning: \"is not\" with a literal. Did you mean \"!=\"?\n",
      "  if filename is not '' and filename is not 'classes':\n",
      "/Users/jeon-youseok/Desktop/ubion/ubion_project_1/자료/algoTrade-master/ch08/8.1 CNN을 활용한 캔들차트 예측분석/preproccess_binclass.py:93: SyntaxWarning: \"is not\" with a literal. Did you mean \"!=\"?\n",
      "  if filename is not '' and filename is not 'classes':\n"
     ]
    },
    {
     "name": "stdout",
     "output_type": "stream",
     "text": [
      "\u001b[92mCreate Label Testing Data Done\n",
      "\u001b[0m\n",
      "\u001b[91m\n",
      "Convert Training Data to Candlestik\u001b[0m\n"
     ]
    },
    {
     "name": "stderr",
     "output_type": "stream",
     "text": [
      "Traceback (most recent call last):\n",
      "  File \"/Users/jeon-youseok/Desktop/ubion/ubion_project_1/자료/algoTrade-master/ch08/8.1 CNN을 활용한 캔들차트 예측분석/preproccess_binclass.py\", line 15, in <module>\n",
      "    from mplfinance import candlestick2_ochl, volume_overlay\n",
      "ModuleNotFoundError: No module named 'mplfinance'\n",
      "/Users/jeon-youseok/Desktop/ubion/ubion_project_1/자료/algoTrade-master/ch08/8.1 CNN을 활용한 캔들차트 예측분석/preproccess_binclass.py:73: SyntaxWarning: \"is not\" with a literal. Did you mean \"!=\"?\n",
      "  if filename is not '':\n",
      "/Users/jeon-youseok/Desktop/ubion/ubion_project_1/자료/algoTrade-master/ch08/8.1 CNN을 활용한 캔들차트 예측분석/preproccess_binclass.py:93: SyntaxWarning: \"is not\" with a literal. Did you mean \"!=\"?\n",
      "  if filename is not '' and filename is not 'classes':\n",
      "/Users/jeon-youseok/Desktop/ubion/ubion_project_1/자료/algoTrade-master/ch08/8.1 CNN을 활용한 캔들차트 예측분석/preproccess_binclass.py:93: SyntaxWarning: \"is not\" with a literal. Did you mean \"!=\"?\n",
      "  if filename is not '' and filename is not 'classes':\n"
     ]
    },
    {
     "name": "stdout",
     "output_type": "stream",
     "text": [
      "\u001b[92mConvert Training Data to Candlestik Done\n",
      "\u001b[0m\n",
      "\u001b[91m\n",
      "Convert Testing Data to Candlestik\u001b[0m\n"
     ]
    },
    {
     "name": "stderr",
     "output_type": "stream",
     "text": [
      "Traceback (most recent call last):\n",
      "  File \"/Users/jeon-youseok/Desktop/ubion/ubion_project_1/자료/algoTrade-master/ch08/8.1 CNN을 활용한 캔들차트 예측분석/preproccess_binclass.py\", line 15, in <module>\n",
      "    from mplfinance import candlestick2_ochl, volume_overlay\n",
      "ModuleNotFoundError: No module named 'mplfinance'\n",
      "/Users/jeon-youseok/Desktop/ubion/ubion_project_1/자료/algoTrade-master/ch08/8.1 CNN을 활용한 캔들차트 예측분석/preproccess_binclass.py:73: SyntaxWarning: \"is not\" with a literal. Did you mean \"!=\"?\n",
      "  if filename is not '':\n",
      "/Users/jeon-youseok/Desktop/ubion/ubion_project_1/자료/algoTrade-master/ch08/8.1 CNN을 활용한 캔들차트 예측분석/preproccess_binclass.py:93: SyntaxWarning: \"is not\" with a literal. Did you mean \"!=\"?\n",
      "  if filename is not '' and filename is not 'classes':\n",
      "/Users/jeon-youseok/Desktop/ubion/ubion_project_1/자료/algoTrade-master/ch08/8.1 CNN을 활용한 캔들차트 예측분석/preproccess_binclass.py:93: SyntaxWarning: \"is not\" with a literal. Did you mean \"!=\"?\n",
      "  if filename is not '' and filename is not 'classes':\n"
     ]
    },
    {
     "name": "stdout",
     "output_type": "stream",
     "text": [
      "\u001b[92mConvert Testing Data to Candlestik Done\n",
      "\u001b[0m\n",
      "\u001b[91m\n",
      "Labelling Training Data\u001b[0m\n",
      "python preproccess_binclass.py -m img2dt -i dataset/20_50/BBNI.JK/training -lf BBNI.JK_training_label_20.txt\n"
     ]
    },
    {
     "name": "stderr",
     "output_type": "stream",
     "text": [
      "Traceback (most recent call last):\n",
      "  File \"/Users/jeon-youseok/Desktop/ubion/ubion_project_1/자료/algoTrade-master/ch08/8.1 CNN을 활용한 캔들차트 예측분석/preproccess_binclass.py\", line 15, in <module>\n",
      "    from mplfinance import candlestick2_ochl, volume_overlay\n",
      "ModuleNotFoundError: No module named 'mplfinance'\n",
      "/Users/jeon-youseok/Desktop/ubion/ubion_project_1/자료/algoTrade-master/ch08/8.1 CNN을 활용한 캔들차트 예측분석/preproccess_binclass.py:73: SyntaxWarning: \"is not\" with a literal. Did you mean \"!=\"?\n",
      "  if filename is not '':\n",
      "/Users/jeon-youseok/Desktop/ubion/ubion_project_1/자료/algoTrade-master/ch08/8.1 CNN을 활용한 캔들차트 예측분석/preproccess_binclass.py:93: SyntaxWarning: \"is not\" with a literal. Did you mean \"!=\"?\n",
      "  if filename is not '' and filename is not 'classes':\n",
      "/Users/jeon-youseok/Desktop/ubion/ubion_project_1/자료/algoTrade-master/ch08/8.1 CNN을 활용한 캔들차트 예측분석/preproccess_binclass.py:93: SyntaxWarning: \"is not\" with a literal. Did you mean \"!=\"?\n",
      "  if filename is not '' and filename is not 'classes':\n"
     ]
    },
    {
     "name": "stdout",
     "output_type": "stream",
     "text": [
      "\u001b[92mLabelling Training Data Done\n",
      "\u001b[0m\n",
      "\u001b[91m\n",
      "Labelling Testing Data\u001b[0m\n"
     ]
    },
    {
     "name": "stderr",
     "output_type": "stream",
     "text": [
      "Traceback (most recent call last):\n",
      "  File \"/Users/jeon-youseok/Desktop/ubion/ubion_project_1/자료/algoTrade-master/ch08/8.1 CNN을 활용한 캔들차트 예측분석/preproccess_binclass.py\", line 15, in <module>\n",
      "    from mplfinance import candlestick2_ochl, volume_overlay\n",
      "ModuleNotFoundError: No module named 'mplfinance'\n"
     ]
    },
    {
     "name": "stdout",
     "output_type": "stream",
     "text": [
      "\u001b[92mLabelling Testing Data Done\n",
      "\u001b[0m\n",
      "python generatedata.py \"dataset\" \"20_50/BBNI.JK\" \"dataset_BBNIJK_20_50\" \n",
      "348\n",
      "3138\n",
      "python myDeepCNN.py \"-i\" \"dataset/dataset_BBNIJK_20_50\" \"-e\" \"50\" \"-d\" \"50\" \"-b\" \"8\" \"-o\" \"outputresult.txt\"\n"
     ]
    }
   ],
   "source": [
    "import subprocess\n",
    "\n",
    "try:\n",
    "    print(f'python run_binary_preprocessing.py \"BBNI.JK\" \"20\" \"50\"')\n",
    "    subprocess.call(f'python run_binary_preprocessing.py  \"BBNI.JK\" \"20\" \"50\" ', shell=True)\n",
    "\n",
    "    print(f'python generatedata.py \"dataset\" \"20_50/BBNI.JK\" \"dataset_BBNIJK_20_50\" ')\n",
    "    subprocess.call(f'python generatedata.py \"dataset\" \"20_50/BBNI.JK\" \"dataset_BBNIJK_20_50\" ', shell=True)\n",
    "\n",
    "    print(f'python myDeepCNN.py \"-i\" \"dataset/dataset_BBNIJK_20_50\" \"-e\" \"50\" \"-d\" \"50\" \"-b\" \"8\" \"-o\" \"outputresult.txt\"')\n",
    "    subprocess.call(f'python myDeepCNN.py \"-i\" \"dataset/dataset_BBNIJK_20_50\" \"-e\" \"50\" \"-d\" \"50\" \"-b\" \"8\" \"-o\" \"outputresult.txt\"', shell=True)\n",
    "except Exception as identifier:\n",
    "    print(identifier)"
   ]
  },
  {
   "cell_type": "code",
   "execution_count": null,
   "metadata": {},
   "outputs": [],
   "source": []
  }
 ],
 "metadata": {
  "kernelspec": {
   "display_name": "Python 3",
   "language": "python",
   "name": "python3"
  },
  "language_info": {
   "codemirror_mode": {
    "name": "ipython",
    "version": 3
   },
   "file_extension": ".py",
   "mimetype": "text/x-python",
   "name": "python",
   "nbconvert_exporter": "python",
   "pygments_lexer": "ipython3",
   "version": "3.10.2"
  }
 },
 "nbformat": 4,
 "nbformat_minor": 4
}
