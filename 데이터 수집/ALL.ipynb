{
 "cells": [
  {
   "cell_type": "code",
   "execution_count": 11,
   "metadata": {},
   "outputs": [],
   "source": [
    "from pykrx import stock"
   ]
  },
  {
   "cell_type": "code",
   "execution_count": 18,
   "metadata": {},
   "outputs": [
    {
     "data": {
      "text/plain": [
       "(['060310', '054620', '265520', '211270', '032790', '013720'], 1557)"
      ]
     },
     "execution_count": 18,
     "metadata": {},
     "output_type": "execute_result"
    }
   ],
   "source": [
    "# KOSPI/KOSDAQ/KONEX 종목코드 조회\n",
    "stock_code = stock.get_market_ticker_list(date=\"20220513\", market=\"KOSDAQ\")\n",
    "(stock_code[:6], len(stock_code))"
   ]
  },
  {
   "cell_type": "code",
   "execution_count": 19,
   "metadata": {},
   "outputs": [],
   "source": [
    "df = stock.get_market_ohlcv_by_ticker(date=\"20150701\", market=\"KOSDAQ\")"
   ]
  },
  {
   "cell_type": "code",
   "execution_count": 20,
   "metadata": {},
   "outputs": [
    {
     "data": {
      "text/html": [
       "<div>\n",
       "<style scoped>\n",
       "    .dataframe tbody tr th:only-of-type {\n",
       "        vertical-align: middle;\n",
       "    }\n",
       "\n",
       "    .dataframe tbody tr th {\n",
       "        vertical-align: top;\n",
       "    }\n",
       "\n",
       "    .dataframe thead th {\n",
       "        text-align: right;\n",
       "    }\n",
       "</style>\n",
       "<table border=\"1\" class=\"dataframe\">\n",
       "  <thead>\n",
       "    <tr style=\"text-align: right;\">\n",
       "      <th></th>\n",
       "      <th>시가</th>\n",
       "      <th>고가</th>\n",
       "      <th>저가</th>\n",
       "      <th>종가</th>\n",
       "      <th>거래량</th>\n",
       "      <th>거래대금</th>\n",
       "      <th>등락률</th>\n",
       "    </tr>\n",
       "    <tr>\n",
       "      <th>티커</th>\n",
       "      <th></th>\n",
       "      <th></th>\n",
       "      <th></th>\n",
       "      <th></th>\n",
       "      <th></th>\n",
       "      <th></th>\n",
       "      <th></th>\n",
       "    </tr>\n",
       "  </thead>\n",
       "  <tbody>\n",
       "    <tr>\n",
       "      <th>060310</th>\n",
       "      <td>2510</td>\n",
       "      <td>2725</td>\n",
       "      <td>2485</td>\n",
       "      <td>2670</td>\n",
       "      <td>456176</td>\n",
       "      <td>1193349750</td>\n",
       "      <td>5.33</td>\n",
       "    </tr>\n",
       "    <tr>\n",
       "      <th>054620</th>\n",
       "      <td>9190</td>\n",
       "      <td>9270</td>\n",
       "      <td>9050</td>\n",
       "      <td>9050</td>\n",
       "      <td>303698</td>\n",
       "      <td>2771482510</td>\n",
       "      <td>-0.22</td>\n",
       "    </tr>\n",
       "    <tr>\n",
       "      <th>090470</th>\n",
       "      <td>3620</td>\n",
       "      <td>3790</td>\n",
       "      <td>3600</td>\n",
       "      <td>3760</td>\n",
       "      <td>82468</td>\n",
       "      <td>306602720</td>\n",
       "      <td>3.87</td>\n",
       "    </tr>\n",
       "    <tr>\n",
       "      <th>032040</th>\n",
       "      <td>7350</td>\n",
       "      <td>7760</td>\n",
       "      <td>7300</td>\n",
       "      <td>7700</td>\n",
       "      <td>457004</td>\n",
       "      <td>3427569150</td>\n",
       "      <td>3.63</td>\n",
       "    </tr>\n",
       "    <tr>\n",
       "      <th>130960</th>\n",
       "      <td>78700</td>\n",
       "      <td>80200</td>\n",
       "      <td>76500</td>\n",
       "      <td>77800</td>\n",
       "      <td>417858</td>\n",
       "      <td>32566320800</td>\n",
       "      <td>-0.64</td>\n",
       "    </tr>\n",
       "    <tr>\n",
       "      <th>...</th>\n",
       "      <td>...</td>\n",
       "      <td>...</td>\n",
       "      <td>...</td>\n",
       "      <td>...</td>\n",
       "      <td>...</td>\n",
       "      <td>...</td>\n",
       "      <td>...</td>\n",
       "    </tr>\n",
       "    <tr>\n",
       "      <th>065510</th>\n",
       "      <td>20850</td>\n",
       "      <td>21400</td>\n",
       "      <td>20850</td>\n",
       "      <td>21050</td>\n",
       "      <td>242196</td>\n",
       "      <td>5098936200</td>\n",
       "      <td>0.24</td>\n",
       "    </tr>\n",
       "    <tr>\n",
       "      <th>084110</th>\n",
       "      <td>112100</td>\n",
       "      <td>112500</td>\n",
       "      <td>107800</td>\n",
       "      <td>108900</td>\n",
       "      <td>116922</td>\n",
       "      <td>12784985800</td>\n",
       "      <td>-0.64</td>\n",
       "    </tr>\n",
       "    <tr>\n",
       "      <th>024060</th>\n",
       "      <td>2850</td>\n",
       "      <td>2885</td>\n",
       "      <td>2800</td>\n",
       "      <td>2830</td>\n",
       "      <td>127589</td>\n",
       "      <td>361173705</td>\n",
       "      <td>0.53</td>\n",
       "    </tr>\n",
       "    <tr>\n",
       "      <th>010240</th>\n",
       "      <td>4670</td>\n",
       "      <td>4855</td>\n",
       "      <td>4670</td>\n",
       "      <td>4840</td>\n",
       "      <td>37376</td>\n",
       "      <td>179539805</td>\n",
       "      <td>2.98</td>\n",
       "    </tr>\n",
       "    <tr>\n",
       "      <th>037440</th>\n",
       "      <td>4250</td>\n",
       "      <td>4285</td>\n",
       "      <td>4200</td>\n",
       "      <td>4250</td>\n",
       "      <td>18379</td>\n",
       "      <td>77935200</td>\n",
       "      <td>0.00</td>\n",
       "    </tr>\n",
       "  </tbody>\n",
       "</table>\n",
       "<p>1088 rows × 7 columns</p>\n",
       "</div>"
      ],
      "text/plain": [
       "            시가      고가      저가      종가     거래량         거래대금   등락률\n",
       "티커                                                               \n",
       "060310    2510    2725    2485    2670  456176   1193349750  5.33\n",
       "054620    9190    9270    9050    9050  303698   2771482510 -0.22\n",
       "090470    3620    3790    3600    3760   82468    306602720  3.87\n",
       "032040    7350    7760    7300    7700  457004   3427569150  3.63\n",
       "130960   78700   80200   76500   77800  417858  32566320800 -0.64\n",
       "...        ...     ...     ...     ...     ...          ...   ...\n",
       "065510   20850   21400   20850   21050  242196   5098936200  0.24\n",
       "084110  112100  112500  107800  108900  116922  12784985800 -0.64\n",
       "024060    2850    2885    2800    2830  127589    361173705  0.53\n",
       "010240    4670    4855    4670    4840   37376    179539805  2.98\n",
       "037440    4250    4285    4200    4250   18379     77935200  0.00\n",
       "\n",
       "[1088 rows x 7 columns]"
      ]
     },
     "execution_count": 20,
     "metadata": {},
     "output_type": "execute_result"
    }
   ],
   "source": [
    "df"
   ]
  },
  {
   "cell_type": "code",
   "execution_count": 22,
   "metadata": {},
   "outputs": [],
   "source": [
    "list=[]\n",
    "\n",
    "for i in range(len(df)):\n",
    "    if df['등락률'][i] > 20:\n",
    "        list.append(df.index[i])"
   ]
  },
  {
   "cell_type": "code",
   "execution_count": 23,
   "metadata": {},
   "outputs": [
    {
     "data": {
      "text/plain": [
       "['058820',\n",
       " '021045',\n",
       " '084650',\n",
       " '078780',\n",
       " '041910',\n",
       " '014940',\n",
       " '065500',\n",
       " '052420',\n",
       " '064090']"
      ]
     },
     "execution_count": 23,
     "metadata": {},
     "output_type": "execute_result"
    }
   ],
   "source": [
    "list"
   ]
  }
 ],
 "metadata": {
  "interpreter": {
   "hash": "aee8b7b246df8f9039afb4144a1f6fd8d2ca17a180786b69acc140d282b71a49"
  },
  "kernelspec": {
   "display_name": "Python 3.10.2 64-bit",
   "language": "python",
   "name": "python3"
  },
  "language_info": {
   "name": "python",
   "version": "3.10.2"
  },
  "orig_nbformat": 4
 },
 "nbformat": 4,
 "nbformat_minor": 2
}
